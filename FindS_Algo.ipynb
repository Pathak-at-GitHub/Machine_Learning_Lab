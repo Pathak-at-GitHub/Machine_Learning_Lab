{
 "cells": [
  {
   "cell_type": "markdown",
   "id": "aae7b7b5",
   "metadata": {},
   "source": [
    "## Find-S algorithm implementation"
   ]
  },
  {
   "cell_type": "markdown",
   "id": "ee2c3fd1",
   "metadata": {},
   "source": [
    "##### Date: 1 March 2023 "
   ]
  },
  {
   "cell_type": "code",
   "execution_count": 28,
   "id": "cca92896",
   "metadata": {},
   "outputs": [
    {
     "name": "stdout",
     "output_type": "stream",
     "text": [
      "      Time Weather Temperature Company Humidity    Wind Goes\n",
      "0  Morning   Sunny        Warm     Yes     Mild  Strong  Yes\n",
      "1  Evening   Rainy        Cold      No     Mild  Normal   No\n",
      "2  Morning   Sunny    Moderate     Yes   Normal  Normal  Yes\n",
      "3  Evening   Sunny        Cold     Yes     High  Strong  Yes\n"
     ]
    }
   ],
   "source": [
    "import pandas as pd\n",
    "import numpy as np\n",
    "\n",
    "DataFrame = pd.read_csv('data1.csv')\n",
    "print(DataFrame)"
   ]
  },
  {
   "cell_type": "code",
   "execution_count": 29,
   "id": "872a8ff6",
   "metadata": {},
   "outputs": [],
   "source": [
    "Target = np.array(DataFrame)[:,-1]"
   ]
  },
  {
   "cell_type": "code",
   "execution_count": 30,
   "id": "78e14b97",
   "metadata": {},
   "outputs": [
    {
     "name": "stdout",
     "output_type": "stream",
     "text": [
      "['Yes' 'No' 'Yes' 'Yes']\n"
     ]
    }
   ],
   "source": [
    "print(Target)"
   ]
  },
  {
   "cell_type": "code",
   "execution_count": 31,
   "id": "ca60ebd2",
   "metadata": {},
   "outputs": [],
   "source": [
    "Data = np.array(DataFrame)[:,:-1]"
   ]
  },
  {
   "cell_type": "code",
   "execution_count": 32,
   "id": "b4a6cac8",
   "metadata": {},
   "outputs": [
    {
     "name": "stdout",
     "output_type": "stream",
     "text": [
      "[['Morning' 'Sunny' 'Warm' 'Yes' 'Mild' 'Strong']\n",
      " ['Evening' 'Rainy' 'Cold' 'No' 'Mild' 'Normal']\n",
      " ['Morning' 'Sunny' 'Moderate' 'Yes' 'Normal' 'Normal']\n",
      " ['Evening' 'Sunny' 'Cold' 'Yes' 'High' 'Strong']]\n"
     ]
    }
   ],
   "source": [
    "print(Data)"
   ]
  },
  {
   "cell_type": "markdown",
   "id": "ab4a268e",
   "metadata": {},
   "source": [
    "### Find-S algorithm considers only positive examples \n",
    "#### So wherever we have 'False'/'No' as target value we simply delete that sample point. \n",
    "#### We start from the most specific hypothesis and find the most general hypothesis by iterating through the data given. The most specific hypothesis is the first positive example in the given data set. "
   ]
  },
  {
   "cell_type": "code",
   "execution_count": 33,
   "id": "bce205a6",
   "metadata": {},
   "outputs": [
    {
     "name": "stdout",
     "output_type": "stream",
     "text": [
      "The final hypothesis is  ['?' 'Sunny' '?' 'Yes' '?' '?']\n"
     ]
    }
   ],
   "source": [
    "## Function to train the model\n",
    "def Train_model(Data, Target):\n",
    "    for i in range(len(Target)):\n",
    "        if Target[i]== \"Yes\":\n",
    "            specific_hypothesis = Data[i].copy()\n",
    "            break\n",
    "        \n",
    "    for i, val in enumerate(Data):\n",
    "        if Target[i] == 'Yes':\n",
    "            for j in range(len(specific_hypothesis)):\n",
    "                \n",
    "                if val[j] != specific_hypothesis[j]:\n",
    "                    specific_hypothesis[j] = '?'\n",
    "                else:\n",
    "                    pass\n",
    "    return specific_hypothesis\n",
    "\n",
    "print('The final hypothesis is ',Train_model(Data, Target) )"
   ]
  },
  {
   "cell_type": "code",
   "execution_count": 23,
   "id": "1b558c6d",
   "metadata": {},
   "outputs": [],
   "source": []
  },
  {
   "cell_type": "code",
   "execution_count": null,
   "id": "f8147322",
   "metadata": {},
   "outputs": [],
   "source": []
  },
  {
   "cell_type": "code",
   "execution_count": null,
   "id": "2d5a59fe",
   "metadata": {},
   "outputs": [],
   "source": []
  },
  {
   "cell_type": "code",
   "execution_count": null,
   "id": "7d15dc0c",
   "metadata": {},
   "outputs": [],
   "source": []
  }
 ],
 "metadata": {
  "kernelspec": {
   "display_name": "Python 3 (ipykernel)",
   "language": "python",
   "name": "python3"
  },
  "language_info": {
   "codemirror_mode": {
    "name": "ipython",
    "version": 3
   },
   "file_extension": ".py",
   "mimetype": "text/x-python",
   "name": "python",
   "nbconvert_exporter": "python",
   "pygments_lexer": "ipython3",
   "version": "3.9.7"
  }
 },
 "nbformat": 4,
 "nbformat_minor": 5
}
